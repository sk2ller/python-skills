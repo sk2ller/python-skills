{
  "nbformat": 4,
  "nbformat_minor": 0,
  "metadata": {
    "colab": {
      "name": "Untitled2.ipynb",
      "provenance": [],
      "collapsed_sections": []
    },
    "kernelspec": {
      "name": "python3",
      "display_name": "Python 3"
    },
    "language_info": {
      "name": "python"
    }
  },
  "cells": [
    {
      "cell_type": "code",
      "metadata": {
        "colab": {
          "base_uri": "https://localhost:8080/"
        },
        "id": "Wmj0W0feapK7",
        "outputId": "c54a148d-9cd9-4b32-8693-5496db18c310"
      },
      "source": [
        "#ex1\n",
        "for i in range(2000, 3201):\n",
        "    if i % 7 == 0 and i % 5 != 0:\n",
        "        print(i, end=\",\")"
      ],
      "execution_count": null,
      "outputs": [
        {
          "output_type": "stream",
          "name": "stdout",
          "text": [
            "2002,2009,2016,2023,2037,2044,2051,2058,2072,2079,2086,2093,2107,2114,2121,2128,2142,2149,2156,2163,2177,2184,2191,2198,2212,2219,2226,2233,2247,2254,2261,2268,2282,2289,2296,2303,2317,2324,2331,2338,2352,2359,2366,2373,2387,2394,2401,2408,2422,2429,2436,2443,2457,2464,2471,2478,2492,2499,2506,2513,2527,2534,2541,2548,2562,2569,2576,2583,2597,2604,2611,2618,2632,2639,2646,2653,2667,2674,2681,2688,2702,2709,2716,2723,2737,2744,2751,2758,2772,2779,2786,2793,2807,2814,2821,2828,2842,2849,2856,2863,2877,2884,2891,2898,2912,2919,2926,2933,2947,2954,2961,2968,2982,2989,2996,3003,3017,3024,3031,3038,3052,3059,3066,3073,3087,3094,3101,3108,3122,3129,3136,3143,3157,3164,3171,3178,3192,3199,"
          ]
        }
      ]
    },
    {
      "cell_type": "code",
      "metadata": {
        "colab": {
          "base_uri": "https://localhost:8080/"
        },
        "id": "goOOofWgbSHj",
        "outputId": "82c26abb-f5c0-458d-a8d6-ad0fe2df721e"
      },
      "source": [
        "#ex2\n",
        "def factorial(n): \n",
        "    if n == 0:\n",
        "        return 1\n",
        "    return n * factorial(n-1)\n",
        "num = int(input(\"Enter a number: \"));\n",
        "print(\"Factorial of\", num, \"is\",\n",
        "factorial(num))"
      ],
      "execution_count": null,
      "outputs": [
        {
          "output_type": "stream",
          "name": "stdout",
          "text": [
            "Enter a number: 5\n",
            "Factorial of 5 is 120\n"
          ]
        }
      ]
    },
    {
      "cell_type": "code",
      "metadata": {
        "colab": {
          "base_uri": "https://localhost:8080/"
        },
        "id": "7flh-bm8dWd2",
        "outputId": "f67f94bc-bcdf-4bde-8485-8f706ce4d7c8"
      },
      "source": [
        "#ex3\n",
        "number = int(input(\"Type a number: \"))\n",
        "numberDict = {}\n",
        "for i in range(1, number+1):\n",
        "    numberDict[i] = i*i\n",
        "print(numberDict)"
      ],
      "execution_count": null,
      "outputs": [
        {
          "output_type": "stream",
          "name": "stdout",
          "text": [
            "Type a number: 8\n",
            "{1: 1, 2: 4, 3: 9, 4: 16, 5: 25, 6: 36, 7: 49, 8: 64}\n"
          ]
        }
      ]
    },
    {
      "cell_type": "code",
      "metadata": {
        "colab": {
          "base_uri": "https://localhost:8080/"
        },
        "id": "RcVNSE_WeICc",
        "outputId": "f0ee68e0-84c4-4214-c7a0-641d9a38df81"
      },
      "source": [
        "#ex4\n",
        "def remove_char(str, n):\n",
        "      first_part = str[:n] \n",
        "      last_part = str[n+1:]\n",
        "      return first_part + last_part\n",
        "print(remove_char('kitten', 1))\n",
        "print(remove_char('kitten', 0))\n",
        "print(remove_char('kitten', 4))"
      ],
      "execution_count": null,
      "outputs": [
        {
          "output_type": "stream",
          "name": "stdout",
          "text": [
            "ktten\n",
            "itten\n",
            "kittn\n"
          ]
        }
      ]
    },
    {
      "cell_type": "code",
      "metadata": {
        "colab": {
          "base_uri": "https://localhost:8080/"
        },
        "id": "6pDRvPR0jPrr",
        "outputId": "711e01ec-1c57-44d9-f2e2-fb8388573c8c"
      },
      "source": [
        "#ex5\n",
        "import numpy as np\n",
        "new_array=np.array([[0,1],[2,3],[4,5]])\n",
        "new_list=new_array.tolist()\n",
        "print(new_list)"
      ],
      "execution_count": null,
      "outputs": [
        {
          "output_type": "stream",
          "name": "stdout",
          "text": [
            "[[0, 1], [2, 3], [4, 5]]\n"
          ]
        }
      ]
    },
    {
      "cell_type": "code",
      "metadata": {
        "id": "XreVeGXH7F_D",
        "colab": {
          "base_uri": "https://localhost:8080/"
        },
        "outputId": "6f5121c0-d4b4-4e0c-e64a-ffe6c4b111e4"
      },
      "source": [
        "#ex6\n",
        "import numpy as np\n",
        "array1 = np.array([0, 1, 2])\n",
        "array2 = np.array([2, 1, 0])\n",
        "print(np.cov(array1, array2))"
      ],
      "execution_count": 25,
      "outputs": [
        {
          "output_type": "stream",
          "name": "stdout",
          "text": [
            "[[ 1. -1.]\n",
            " [-1.  1.]]\n"
          ]
        }
      ]
    },
    {
      "cell_type": "code",
      "metadata": {
        "id": "k370rD0k3_vj",
        "colab": {
          "base_uri": "https://localhost:8080/"
        },
        "outputId": "6bf0b710-855a-4b3b-fa7e-713036abcf06"
      },
      "source": [
        "#ex7\n",
        "import math\n",
        "numbers=input(\"Provide D: \")\n",
        "numbers=numbers.split(',')\n",
        "result_list= []\n",
        "for D in numbers:\n",
        "    Q=round(math.sqrt(2*50*int(D)/30))  \n",
        "    result_list.append(Q)\n",
        "print(result_list)"
      ],
      "execution_count": null,
      "outputs": [
        {
          "output_type": "stream",
          "name": "stdout",
          "text": [
            "Provide D: 100,150,180\n",
            "[18, 22, 24]\n"
          ]
        }
      ]
    }
  ]
}